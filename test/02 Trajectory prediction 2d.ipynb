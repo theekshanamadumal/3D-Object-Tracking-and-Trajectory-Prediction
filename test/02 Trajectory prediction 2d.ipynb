{
 "cells": [
  {
   "cell_type": "markdown",
   "id": "aa6d1a6e",
   "metadata": {},
   "source": [
    "No matter how many dimensions you have. Kalman Filter is not about positions but about general solution of how to predict a system state.\n",
    "\n",
    "In general you need to have state transition matrix that is in case of movement normally adds velocity columns - one for each dimension - since when moving an object adds certain amount of position each iteration.\n",
    "\n",
    "You also need the covariance matrix that defines the covariance of state vector elements.\n",
    "\n",
    "And also different matrices that adds certain amount of external input (like noise, control, etc.).\n",
    "\n",
    "However in the simplest cases you do not need to set up all of them. Below is the simple example of 3D case with the help of Kalman Filter implementation of filterpy package."
   ]
  },
  {
   "cell_type": "markdown",
   "id": "dca67402",
   "metadata": {},
   "source": [
    "Where\n",
    "\n",
    "f.x is your initial state vector of [x, y, z, vx, vy, vz] where v means velocity.\n",
    "f.F is your state transition matrix, i.e. the model describing the way you expect the position of your object would change. For example according to the model from example, your x would change as 1*x + 0*y + 0*z + 1*vx + 0*vy + 0*vz = x + vx each step.\n",
    "f.H - The matrix that defines measurement function\n",
    "The above example uses default covariance matrix, default noises, etc.\n",
    "\n",
    "P.S. - Regarding from where take the measurements we cannot advice you anything. That depends on what data or what sensors you have."
   ]
  },
  {
   "cell_type": "code",
   "execution_count": 2,
   "id": "ab72950a",
   "metadata": {},
   "outputs": [],
   "source": [
    "import numpy as np\n",
    "from filterpy.kalman import KalmanFilter\n",
    "import matplotlib.pyplot as plt"
   ]
  },
  {
   "cell_type": "code",
   "execution_count": 35,
   "id": "1b178365",
   "metadata": {},
   "outputs": [],
   "source": [
    "def kalmanFilter():\n",
    "    f = KalmanFilter(4, 2)\n",
    "\n",
    "    f.x = np.array([0., 0., 0., 0.])\n",
    "    f.F = np.asarray(\n",
    "        [\n",
    "            [1., 0., 1., 0.],\n",
    "            [0., 1., 0., 1.],\n",
    "            [0., 0., 1., 0.],\n",
    "            [0., 0., 0., 1.],\n",
    "\n",
    "        ]\n",
    "    )\n",
    "\n",
    "    f.H = np.array([\n",
    "        [1., 0., 0., 0.],\n",
    "        [0., 1., 0., 0.]\n",
    "    ])\n",
    "    \n",
    "    return f"
   ]
  },
  {
   "cell_type": "code",
   "execution_count": 4,
   "id": "f9dff4f6",
   "metadata": {
    "scrolled": true
   },
   "outputs": [],
   "source": [
    "from sklearn.metrics import mean_squared_error"
   ]
  },
  {
   "cell_type": "code",
   "execution_count": 6,
   "id": "4bb330b4",
   "metadata": {},
   "outputs": [
    {
     "name": "stdout",
     "output_type": "stream",
     "text": [
      "Measured:  [0. 0.]\n",
      "predicted:  [0. 0. 0. 0.]\n",
      "Measured:  [1.  0.1]\n",
      "predicted:  [0. 0. 0. 0.]\n",
      "Measured:  [2.  0.2]\n",
      "predicted:  [1.2  0.12 0.4  0.04]\n",
      "Measured:  [3.  0.3]\n",
      "predicted:  [2.59459459 0.25945946 0.73873874 0.07387387]\n",
      "Measured:  [4.  0.4]\n",
      "predicted:  [3.83814103 0.3838141  0.91025641 0.09102564]\n",
      "Measured:  [5.  0.5]\n",
      "predicted:  [4.94978602 0.4949786  0.978602   0.0978602 ]\n",
      "Measured:  [6.  0.6]\n",
      "predicted:  [5.9908518  0.59908518 0.99979671 0.09997967]\n",
      "Measured:  [7.  0.7]\n",
      "predicted:  [7.00202818 0.70020282 1.00365796 0.1003658 ]\n",
      "Measured:  [8.  0.8]\n",
      "predicted:  [8.00316323 0.80031632 1.00280191 0.10028019]\n",
      "Measured:  [9.  0.9]\n",
      "predicted:  [9.0020303  0.90020303 1.00146676 0.10014668]\n"
     ]
    },
    {
     "data": {
      "image/png": "[encoded data removed]",
      "text/plain": [
       "<Figure size 432x288 with 1 Axes>"
      ]
     },
     "metadata": {
      "needs_background": "light"
     },
     "output_type": "display_data"
    }
   ],
   "source": [
    "# predict and update simultaniously\n",
    "f = kalmanFilter()\n",
    "true=[]\n",
    "predicted=[]\n",
    "\n",
    "for i in range(10):\n",
    "    z = np.array([i, 0.1*i])\n",
    "    true.append(z)\n",
    "    print('Measured: ', z)\n",
    "    f.predict()\n",
    "    p = f.x\n",
    "    predicted.append(p[:2])\n",
    "    print('predicted: ', p)\n",
    "    f.update(z)\n",
    "    plt.plot(z[0],z[1], c='blue', marker='o', markersize=3)\n",
    "    plt.plot(p[0],p[1], c='red', marker='o', markersize=3)"
   ]
  },
  {
   "cell_type": "code",
   "execution_count": 19,
   "id": "2b54fd20",
   "metadata": {},
   "outputs": [
    {
     "name": "stdout",
     "output_type": "stream",
     "text": [
      "6.35838686118732\n"
     ]
    }
   ],
   "source": [
    "mse = mean_squared_error(true, predicted)\n",
    "print(mse)"
   ]
  },
  {
   "cell_type": "code",
   "execution_count": 47,
   "id": "0a90e3f1",
   "metadata": {
    "scrolled": false
   },
   "outputs": [
    {
     "name": "stdout",
     "output_type": "stream",
     "text": [
      "predicted initial:  [0. 0. 0. 0.]\n",
      "Measured:  [5.  0.5]\n",
      "predicted initial:  [5.    0.5   1.25  0.125]\n",
      "Measured:  [6.  0.6]\n",
      "predicted initial:  [7.45  0.745 1.65  0.165]\n",
      "Measured:  [7.  0.7]\n",
      "predicted initial:  [8.54054054 0.85405405 1.45945946 0.14594595]\n",
      "Measured:  [8.  0.8]\n",
      "predicted initial:  [9.32692308 0.93269231 1.23076923 0.12307692]\n",
      "Measured:  [9.  0.9]\n",
      "f predicted:  [10.15092725  1.01509272  1.09272468  0.10927247]\n",
      "f predicted:  [11.24365193  1.12436519  1.09272468  0.10927247]\n",
      "f predicted:  [12.3363766   1.23363766  1.09272468  0.10927247]\n",
      "f predicted:  [13.42910128  1.34291013  1.09272468  0.10927247]\n",
      "f predicted:  [14.52182596  1.4521826   1.09272468  0.10927247]\n",
      "predicted initial:  [15.61455064  1.56145506  1.09272468  0.10927247]\n",
      "Measured:  [10.  1.]\n",
      "predicted initial:  [ 1.00305303e+01  1.00305303e+00 -1.01581512e-02 -1.01581512e-03]\n",
      "Measured:  [11.   1.1]\n",
      "predicted initial:  [11.28337762  1.12833776  0.44472972  0.04447297]\n",
      "Measured:  [12.   1.2]\n",
      "predicted initial:  [12.65353183  1.26535318  0.77155327  0.07715533]\n",
      "Measured:  [13.   1.3]\n",
      "predicted initial:  [13.86098515  1.38609852  0.92088125  0.09208812]\n",
      "Measured:  [14.   1.4]\n",
      "f predicted:  [14.95515802  1.4955158   0.97975526  0.09797553]\n",
      "f predicted:  [15.93491328  1.59349133  0.97975526  0.09797553]\n",
      "f predicted:  [16.91466854  1.69146685  0.97975526  0.09797553]\n",
      "f predicted:  [17.89442379  1.78944238  0.97975526  0.09797553]\n",
      "f predicted:  [18.87417905  1.8874179   0.97975526  0.09797553]\n"
     ]
    },
    {
     "data": {
      "image/png": "[encoded data removed]",
      "text/plain": [
       "<Figure size 432x288 with 1 Axes>"
      ]
     },
     "metadata": {
      "needs_background": "light"
     },
     "output_type": "display_data"
    }
   ],
   "source": [
    "#update continously\n",
    "f = kalmanFilter()\n",
    "true=[]\n",
    "predicted=[]\n",
    "# fc = kalmanFilter()\n",
    "\n",
    "for j in range(1,3) :\n",
    "    for i in range(5*j,5*(j+1)):\n",
    "        z = np.array([i, 0.1*i])\n",
    "        true.append(z)\n",
    "        f.predict()\n",
    "        p = f.x\n",
    "        predicted.append(p[:2])\n",
    "        print('predicted initial: ', p)\n",
    "        plt.plot(p[0],p[1], c='black', marker='o', markersize=6)\n",
    "        f.update(z)\n",
    "        print('Measured: ', z)\n",
    "        plt.plot(z[0],z[1], c='blue', marker='o', markersize=4)\n",
    "\n",
    "    #     fc.predict()\n",
    "    #     p = fc.x\n",
    "    #     predicted.append(p[:2])\n",
    "    #     print('predicted: ', p)\n",
    "    #     plt.plot(p[0],p[1], c='black', marker='o', markersize=4)\n",
    "\n",
    "    for i in range(5*j,5*(j+1)):    \n",
    "        f.predict()\n",
    "        p = f.x\n",
    "        predicted.append(p[:2])\n",
    "        print('f predicted: ', f.x)\n",
    "        plt.plot(p[0],p[1], c='red', marker='o', markersize=2)\n",
    "\n",
    "#     fc.update(p[:2])"
   ]
  }
 ],
 "metadata": {
  "kernelspec": {
   "display_name": "Python 3",
   "language": "python",
   "name": "python3"
  },
  "language_info": {
   "codemirror_mode": {
    "name": "ipython",
    "version": 3
   },
   "file_extension": ".py",
   "mimetype": "text/x-python",
   "name": "python",
   "nbconvert_exporter": "python",
   "pygments_lexer": "ipython3",
   "version": "3.7.6"
  }
 },
 "nbformat": 4,
 "nbformat_minor": 5
}
