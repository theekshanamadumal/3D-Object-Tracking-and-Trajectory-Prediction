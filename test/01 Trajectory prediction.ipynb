{
 "cells": [
  {
   "cell_type": "code",
   "execution_count": 86,
   "id": "c56768ae",
   "metadata": {},
   "outputs": [],
   "source": [
    "from filterpy.kalman import KalmanFilter\n",
    "import numpy as np\n",
    "import matplotlib.pyplot as plt"
   ]
  },
  {
   "cell_type": "code",
   "execution_count": 18,
   "id": "9b2e6093",
   "metadata": {},
   "outputs": [],
   "source": [
    "# kf = KalmanFilter(dim_x=7, dim_z=4) \n",
    "kf = KalmanFilter(dim_x=2, dim_z=2) "
   ]
  },
  {
   "cell_type": "code",
   "execution_count": 87,
   "id": "d36a1a35",
   "metadata": {},
   "outputs": [],
   "source": [
    "def convert_x_to_bbox(x,score=None):\n",
    "  \"\"\"\n",
    "  Takes a bounding box in the centre form [x,y,s,r] and returns it in the form\n",
    "    [x1,y1,x2,y2] where x1,y1 is the top left and x2,y2 is the bottom right\n",
    "  \"\"\"\n",
    "  w = np.sqrt(x[2] * x[3])\n",
    "  h = x[2] / w\n",
    "  if(score==None):\n",
    "    return np.array([x[0]-w/2.,x[1]-h/2.,x[0]+w/2.,x[1]+h/2.]).reshape((1,4))\n",
    "  else:\n",
    "    return np.array([x[0]-w/2.,x[1]-h/2.,x[0]+w/2.,x[1]+h/2.,score]).reshape((1,5))\n",
    "\n"
   ]
  },
  {
   "cell_type": "code",
   "execution_count": 112,
   "id": "9488f4c4",
   "metadata": {},
   "outputs": [],
   "source": [
    "bbox=[0,0,1,1]"
   ]
  },
  {
   "cell_type": "code",
   "execution_count": 113,
   "id": "67445715",
   "metadata": {},
   "outputs": [],
   "source": [
    "kf = KalmanFilter(dim_x=7, dim_z=4) \n",
    "kf.F = np.array([[1,0,0,0,1,0,0],[0,1,0,0,0,1,0],[0,0,1,0,0,0,1],[0,0,0,1,0,0,0],  [0,0,0,0,1,0,0],[0,0,0,0,0,1,0],[0,0,0,0,0,0,1]])\n",
    "kf.H = np.array([[1,0,0,0,0,0,0],[0,1,0,0,0,0,0],[0,0,1,0,0,0,0],[0,0,0,1,0,0,0]])\n",
    "\n",
    "kf.R[2:,2:] *= 10.\n",
    "kf.P[4:,4:] *= 1000. #give high uncertainty to the unobservable initial velocities\n",
    "kf.P *= 10.\n",
    "kf.Q[-1,-1] *= 0.01\n",
    "kf.Q[4:,4:] *= 0.01\n",
    "\n",
    "kf.x[:4] = convert_bbox_to_z(bbox)"
   ]
  },
  {
   "cell_type": "code",
   "execution_count": 70,
   "id": "13120c49",
   "metadata": {
    "scrolled": true
   },
   "outputs": [
    {
     "data": {
      "text/plain": [
       "KalmanFilter object\n",
       "dim_x = 7\n",
       "dim_z = 4\n",
       "dim_u = 0\n",
       "x = [[0.5 0.5 1.  1.  0.  0.  0. ]].T\n",
       "P = [[   10.     0.     0.     0.     0.     0.     0.]\n",
       "     [    0.    10.     0.     0.     0.     0.     0.]\n",
       "     [    0.     0.    10.     0.     0.     0.     0.]\n",
       "     [    0.     0.     0.    10.     0.     0.     0.]\n",
       "     [    0.     0.     0.     0. 10000.     0.     0.]\n",
       "     [    0.     0.     0.     0.     0. 10000.     0.]\n",
       "     [    0.     0.     0.     0.     0.     0. 10000.]]\n",
       "x_prior = [[0. 0. 0. 0. 0. 0. 0.]].T\n",
       "P_prior = [[1. 0. 0. 0. 0. 0. 0.]\n",
       "           [0. 1. 0. 0. 0. 0. 0.]\n",
       "           [0. 0. 1. 0. 0. 0. 0.]\n",
       "           [0. 0. 0. 1. 0. 0. 0.]\n",
       "           [0. 0. 0. 0. 1. 0. 0.]\n",
       "           [0. 0. 0. 0. 0. 1. 0.]\n",
       "           [0. 0. 0. 0. 0. 0. 1.]]\n",
       "x_post = [[0. 0. 0. 0. 0. 0. 0.]].T\n",
       "P_post = [[1. 0. 0. 0. 0. 0. 0.]\n",
       "          [0. 1. 0. 0. 0. 0. 0.]\n",
       "          [0. 0. 1. 0. 0. 0. 0.]\n",
       "          [0. 0. 0. 1. 0. 0. 0.]\n",
       "          [0. 0. 0. 0. 1. 0. 0.]\n",
       "          [0. 0. 0. 0. 0. 1. 0.]\n",
       "          [0. 0. 0. 0. 0. 0. 1.]]\n",
       "F = [[1 0 0 0 1 0 0]\n",
       "     [0 1 0 0 0 1 0]\n",
       "     [0 0 1 0 0 0 1]\n",
       "     [0 0 0 1 0 0 0]\n",
       "     [0 0 0 0 1 0 0]\n",
       "     [0 0 0 0 0 1 0]\n",
       "     [0 0 0 0 0 0 1]]\n",
       "Q = [[1.e+00 0.e+00 0.e+00 0.e+00 0.e+00 0.e+00 0.e+00]\n",
       "     [0.e+00 1.e+00 0.e+00 0.e+00 0.e+00 0.e+00 0.e+00]\n",
       "     [0.e+00 0.e+00 1.e+00 0.e+00 0.e+00 0.e+00 0.e+00]\n",
       "     [0.e+00 0.e+00 0.e+00 1.e+00 0.e+00 0.e+00 0.e+00]\n",
       "     [0.e+00 0.e+00 0.e+00 0.e+00 1.e-02 0.e+00 0.e+00]\n",
       "     [0.e+00 0.e+00 0.e+00 0.e+00 0.e+00 1.e-02 0.e+00]\n",
       "     [0.e+00 0.e+00 0.e+00 0.e+00 0.e+00 0.e+00 1.e-04]]\n",
       "R = [[ 1.  0.  0.  0.]\n",
       "     [ 0.  1.  0.  0.]\n",
       "     [ 0.  0. 10.  0.]\n",
       "     [ 0.  0.  0. 10.]]\n",
       "H = [[1 0 0 0 0 0 0]\n",
       "     [0 1 0 0 0 0 0]\n",
       "     [0 0 1 0 0 0 0]\n",
       "     [0 0 0 1 0 0 0]]\n",
       "K = [[0. 0. 0. 0.]\n",
       "     [0. 0. 0. 0.]\n",
       "     [0. 0. 0. 0.]\n",
       "     [0. 0. 0. 0.]\n",
       "     [0. 0. 0. 0.]\n",
       "     [0. 0. 0. 0.]\n",
       "     [0. 0. 0. 0.]]\n",
       "y = [[0. 0. 0. 0.]].T\n",
       "S = [[0. 0. 0. 0.]\n",
       "     [0. 0. 0. 0.]\n",
       "     [0. 0. 0. 0.]\n",
       "     [0. 0. 0. 0.]]\n",
       "SI = [[0. 0. 0. 0.]\n",
       "      [0. 0. 0. 0.]\n",
       "      [0. 0. 0. 0.]\n",
       "      [0. 0. 0. 0.]]\n",
       "M = [[0. 0. 0. 0.]\n",
       "     [0. 0. 0. 0.]\n",
       "     [0. 0. 0. 0.]\n",
       "     [0. 0. 0. 0.]]\n",
       "B = None\n",
       "z = [[None None None None]].T\n",
       "log-likelihood = -708.3964185322641\n",
       "likelihood = 2.2250738585072014e-308\n",
       "mahalanobis = 0.0\n",
       "alpha = 1.0\n",
       "inv = <function inv at 0x7f774403bf80>"
      ]
     },
     "execution_count": 70,
     "metadata": {},
     "output_type": "execute_result"
    }
   ],
   "source": [
    "kf"
   ]
  },
  {
   "cell_type": "code",
   "execution_count": 71,
   "id": "da2a643c",
   "metadata": {},
   "outputs": [
    {
     "name": "stdout",
     "output_type": "stream",
     "text": [
      "None\n"
     ]
    }
   ],
   "source": [
    "print(kf.update(convert_bbox_to_z(bbox)))"
   ]
  },
  {
   "cell_type": "code",
   "execution_count": 60,
   "id": "624ce7e6",
   "metadata": {},
   "outputs": [
    {
     "name": "stdout",
     "output_type": "stream",
     "text": [
      "None\n"
     ]
    }
   ],
   "source": [
    "print(kf.predict())"
   ]
  },
  {
   "cell_type": "code",
   "execution_count": 59,
   "id": "5622b5d2",
   "metadata": {},
   "outputs": [
    {
     "name": "stdout",
     "output_type": "stream",
     "text": [
      "None\n"
     ]
    }
   ],
   "source": [
    "print(kf.update([2,2,3,3]))"
   ]
  },
  {
   "cell_type": "code",
   "execution_count": 72,
   "id": "1fb4a7eb",
   "metadata": {},
   "outputs": [
    {
     "data": {
      "text/plain": [
       "array([[0., 0., 1., 1.]])"
      ]
     },
     "execution_count": 72,
     "metadata": {},
     "output_type": "execute_result"
    }
   ],
   "source": [
    "convert_x_to_bbox(kf.x)"
   ]
  },
  {
   "cell_type": "code",
   "execution_count": null,
   "id": "b232f1ff",
   "metadata": {},
   "outputs": [],
   "source": [
    "# plt.plot(past_index[:, 0], past_index[:, 1], c='blue', marker='o', markersize=3)\n",
    "# plt.plot(gt_index[:, 0], gt_index[:, 1], c='green', marker='o', markersize=3)\n",
    "# plt.plot(pred_index[:, 0], pred_index[:, 1], c='red', linewidth=1, marker='o', markersize=3)"
   ]
  },
  {
   "cell_type": "code",
   "execution_count": 116,
   "id": "55ae1233",
   "metadata": {},
   "outputs": [
    {
     "name": "stdout",
     "output_type": "stream",
     "text": [
      "2\n",
      "3\n",
      "4\n",
      "5\n",
      "6\n"
     ]
    },
    {
     "data": {
      "image/png": "[encoded data removed]",
      "text/plain": [
       "<Figure size 432x288 with 1 Axes>"
      ]
     },
     "metadata": {
      "needs_background": "light"
     },
     "output_type": "display_data"
    }
   ],
   "source": [
    "for i in range (2,7):\n",
    "    print(i)\n",
    "    kf.update([i+10,i+10,i+10,i+10])\n",
    "    kf.predict()\n",
    "    bb_New=convert_x_to_bbox(kf.x)\n",
    "    plt.plot(bb_New[0][0],bb_New[0][1], c='blue', marker='o', markersize=3)\n",
    "#     plt.show()\n",
    "    "
   ]
  },
  {
   "cell_type": "code",
   "execution_count": 77,
   "id": "8e330bf1",
   "metadata": {},
   "outputs": [
    {
     "data": {
      "text/plain": [
       "array([[-1.47237874, 16.31252646, 35.13351778, 17.34861258]])"
      ]
     },
     "execution_count": 77,
     "metadata": {},
     "output_type": "execute_result"
    }
   ],
   "source": [
    "bb_New"
   ]
  },
  {
   "cell_type": "code",
   "execution_count": 79,
   "id": "d0284146",
   "metadata": {},
   "outputs": [],
   "source": []
  }
 ],
 "metadata": {
  "kernelspec": {
   "display_name": "Python 3",
   "language": "python",
   "name": "python3"
  },
  "language_info": {
   "codemirror_mode": {
    "name": "ipython",
    "version": 3
   },
   "file_extension": ".py",
   "mimetype": "text/x-python",
   "name": "python",
   "nbconvert_exporter": "python",
   "pygments_lexer": "ipython3",
   "version": "3.7.6"
  }
 },
 "nbformat": 4,
 "nbformat_minor": 5
}
