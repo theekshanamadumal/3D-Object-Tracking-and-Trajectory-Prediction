{
 "cells": [
  {
   "cell_type": "markdown",
   "id": "bb62980d",
   "metadata": {},
   "source": [
    "No matter how many dimensions you have. Kalman Filter is not about positions but about general solution of how to predict a system state.\n",
    "\n",
    "In general you need to have state transition matrix that is in case of movement normally adds velocity columns - one for each dimension - since when moving an object adds certain amount of position each iteration.\n",
    "\n",
    "You also need the covariance matrix that defines the covariance of state vector elements.\n",
    "\n",
    "And also different matrices that adds certain amount of external input (like noise, control, etc.).\n",
    "\n",
    "However in the simplest cases you do not need to set up all of them. Below is the simple example of 3D case with the help of Kalman Filter implementation of filterpy package."
   ]
  },
  {
   "cell_type": "markdown",
   "id": "108c899c",
   "metadata": {},
   "source": [
    "Where\n",
    "\n",
    "f.x is your initial state vector of [x, y, z, vx, vy, vz] where v means velocity.\n",
    "f.F is your state transition matrix, i.e. the model describing the way you expect the position of your object would change. For example according to the model from example, your x would change as 1*x + 0*y + 0*z + 1*vx + 0*vy + 0*vz = x + vx each step.\n",
    "f.H - The matrix that defines measurement function\n",
    "The above example uses default covariance matrix, default noises, etc.\n",
    "\n",
    "P.S. - Regarding from where take the measurements we cannot advice you anything. That depends on what data or what sensors you have."
   ]
  },
  {
   "cell_type": "code",
   "execution_count": 1,
   "id": "793e96d2",
   "metadata": {},
   "outputs": [],
   "source": [
    "import numpy as np\n",
    "from filterpy.kalman import KalmanFilter\n",
    "import matplotlib.pyplot as plt"
   ]
  },
  {
   "cell_type": "code",
   "execution_count": 2,
   "id": "3cffbe9b",
   "metadata": {},
   "outputs": [],
   "source": [
    "\n",
    "f = KalmanFilter(6, 3)\n",
    "\n",
    "f.x = np.array([0., 0., 0., 0., 0., 0.])\n",
    "f.F = np.asarray(\n",
    "    [\n",
    "        [1., 0., 0., 1., 0., 0.],\n",
    "        [0., 1., 0., 0., 1., 0.],\n",
    "        [0., 0., 1., 0., 0., 1.],\n",
    "        [0., 0., 0., 1., 0., 0.],\n",
    "        [0., 0., 0., 0., 1., 0.],\n",
    "        [0., 0., 0., 0., 0., 1.]\n",
    "    ]\n",
    ")\n",
    "\n",
    "f.H = np.array([\n",
    "    [1., 0., 0., 0., 0., 0.],\n",
    "    [0., 1., 0., 0., 0., 0.],\n",
    "    [0., 0., 1., 0., 0., 0.]\n",
    "])\n",
    "\n"
   ]
  },
  {
   "cell_type": "code",
   "execution_count": 17,
   "id": "3c6b5bfd",
   "metadata": {},
   "outputs": [
    {
     "name": "stdout",
     "output_type": "stream",
     "text": [
      "Measured:  [0. 0. 0.]\n",
      "predicted:  [10.00572868  1.00057287  0.10005729  1.00401331  0.10040133  0.01004013]\n",
      "Measured:  [1.   0.1  0.01]\n",
      "predicted:  [-1.43667262 -0.14366726 -0.01436673 -3.21922907 -0.32192291 -0.03219229]\n",
      "Measured:  [2.   0.2  0.02]\n",
      "predicted:  [-1.62485431 -0.16248543 -0.01624854 -2.19075234 -0.21907523 -0.02190752]\n",
      "Measured:  [3.   0.3  0.03]\n",
      "predicted:  [ 0.69345421  0.06934542  0.00693454 -0.66076499 -0.0660765  -0.00660765]\n",
      "Measured:  [4.   0.4  0.04]\n",
      "predicted:  [2.90186808 0.29018681 0.02901868 0.31278748 0.03127875 0.00312787]\n",
      "Measured:  [5.   0.5  0.05]\n",
      "predicted:  [4.58065354 0.45806535 0.04580654 0.77628968 0.07762897 0.0077629 ]\n",
      "Measured:  [6.   0.6  0.06]\n",
      "predicted:  [5.87858038 0.58785804 0.0587858  0.95328846 0.09532885 0.00953288]\n",
      "Measured:  [7.   0.7  0.07]\n",
      "predicted:  [6.98290621 0.69829062 0.06982906 1.00453755 0.10045375 0.01004538]\n",
      "Measured:  [8.   0.8  0.08]\n",
      "predicted:  [8.00870722 0.80087072 0.08008707 1.01175254 0.10117525 0.01011753]\n",
      "Measured:  [9.   0.9  0.09]\n",
      "predicted:  [9.0096286  0.90096286 0.09009629 1.00807737 0.10080774 0.01008077]\n"
     ]
    },
    {
     "data": {
      "image/png": "[encoded data removed]",
      "text/plain": [
       "<Figure size 432x288 with 1 Axes>"
      ]
     },
     "metadata": {
      "needs_background": "light"
     },
     "output_type": "display_data"
    }
   ],
   "source": [
    "\n",
    "for i in range(10):\n",
    "    z = np.array([i, 0.1*i, 0.01*i])\n",
    "    print('Measured: ', z)\n",
    "    plt.plot(z[0],z[1],z[2], c='blue', marker='o', markersize=3)\n",
    "    f.predict()\n",
    "    print('predicted: ', f.x)\n",
    "    f.update(z)\n",
    "    plt.plot(f.x[0],f.x[1],f.x[2], c='red', marker='*', markersize=3)"
   ]
  }
 ],
 "metadata": {
  "kernelspec": {
   "display_name": "Python 3",
   "language": "python",
   "name": "python3"
  },
  "language_info": {
   "codemirror_mode": {
    "name": "ipython",
    "version": 3
   },
   "file_extension": ".py",
   "mimetype": "text/x-python",
   "name": "python",
   "nbconvert_exporter": "python",
   "pygments_lexer": "ipython3",
   "version": "3.7.6"
  }
 },
 "nbformat": 4,
 "nbformat_minor": 5
}
